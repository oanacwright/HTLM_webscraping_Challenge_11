


# Import relevant libraries
from splinter import Browser
from bs4 import BeautifulSoup as soup
import matplotlib.pyplot as plt
import pandas as pd


browser = Browser('chrome')





# Visit the website
# https://static.bc-edx.com/data/web/mars_facts/temperature.html
url = "https://static.bc-edx.com/data/web/mars_facts/temperature.html"
browser.visit(url)





# Create a Beautiful Soup Object
html = browser.html
soup = soup(html, 'html.parser')


# Extract all rows of data
table_allrows = soup.find_all('tr',class_='data-row')
table_allrows[:5]





# Create an empty list
mars_weather=[]

# Loop through the scraped data to create a list of rows
for row in table_allrows:
        data = row.find_all('td')
        data_row = []
        for i in range (0,7):
            data_row.append(data[i].text)
        mars_weather.append(data_row)

mars_weather[:5]


# Create a Pandas DataFrame by using the list of rows and a list of the column names
column_names =['id','terrestrial_date','sol','ls','month','min_temp','pressure']
mars_weather_df = pd.DataFrame(mars_weather, columns = column_names)


# Confirm DataFrame was created successfully
mars_weather_df





# Examine data type of each column
mars_weather_df.dtypes


# Change data types for data analysis
mars_weather_df['terrestrial_date']=pd.to_datetime(mars_weather_df['terrestrial_date'])
mars_weather_df[['sol','ls','month']]=mars_weather_df[['sol','ls','month']].astype(int)
mars_weather_df[['min_temp','pressure']]=mars_weather_df[['min_temp','pressure']].astype(float)


# Confirm type changes were successful by examining data types again
mars_weather_df.dtypes





# 1. How many months are there on Mars?
months_on_mars = mars_weather_df['month'].nunique()
months_on_mars


# 2. How many sols (Martian days) worth of data are there?
sols_tot= len(mars_weather_df['sol'])
sols_tot


# 3. What is the average minimum temperature by month?
avg_low_temp = mars_weather_df.groupby('month')['min_temp'].mean()
avg_low_temp


# Plot the average minimum temperature by month
avg_low_temp_chart = avg_low_temp.plot(kind='bar')
avg_low_temp_chart.set_xlabel("month")
avg_low_temp_chart.set_ylabel("Temperature in Celsius")
avg_low_temp_chart.set_title("Average Minimum Temperature by Month")

plt.show()
plt.tight_layout()


# Identify the coldest and hottest months in Curiosity's location by sorting the previous graph
avg_low_temp_sorted = avg_low_temp.sort_values(ascending=True)

avg_low_temp_chart = avg_low_temp_sorted.plot(kind='bar')
avg_low_temp_chart.set_xlabel("month")
avg_low_temp_chart.set_ylabel("Temperature in Celsius")
avg_low_temp_chart.set_title("Average Minimum Temperature by Month")

plt.show()
plt.tight_layout()


# 4. What is the average pressure by month?
avg_pressure = mars_weather_df.groupby('month')['pressure'].mean()
avg_pressure


# Plot the average pressure by month
avg_pressure_chart = avg_pressure.plot(kind='bar')
avg_pressure_chart.set_xlabel("month")
avg_pressure_chart.set_ylabel("Temperature in Celsius")
avg_pressure_chart.set_title("Average Pressure by Month")

plt.show()
plt.tight_layout()


# Identify the lowest and highest pressure months in Curiosity's location by sorting the previous graph
avg_pressure_sorted = avg_pressure.sort_values(ascending=True)

avg_pressure_chart = avg_pressure_sorted.plot(kind='bar')
avg_pressure_chart.set_xlabel("month")
avg_pressure_chart.set_ylabel("Temperature in Celsius")
avg_pressure_chart.set_title("Average Pressure by Month")

plt.show()
plt.tight_layout()


# 5. How many terrestrial (Earth) days are there in a Martian year?

# Visually estimate the result by plotting the daily minimum temperature of each observation in the data set.
plt.plot(mars_weather_df['sol'], mars_weather_df['min_temp']) # ,marker='o'
plt.xlabel('Number of Days')
plt.ylabel('Min Temperature (Celsius)')
plt.title('Minimum Temperature Over Time')
plt.tight_layout()
plt.show()














# Write the data to a CSV
mars_weather_df.to_csv("mars_weather_data.csv", encoding="utf-8", index=False, header=True)


browser.quit()
