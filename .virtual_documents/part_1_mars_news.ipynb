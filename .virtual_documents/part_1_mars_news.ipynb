


# Import Splinter and BeautifulSoup
from splinter import Browser
from bs4 import BeautifulSoup as soup


browser = Browser('chrome')





# Visit the Mars news site
url = 'https://static.bc-edx.com/data/web/mars_news/index.html'
browser.visit(url)





# Create a Beautiful Soup object
html = browser.html
mars = soup(html, 'html.parser')


# Extract all the text elements
text = mars.find_all('div',class_='list_text')

# Print first 5 elements
text[:5]





# Create an empty list to store the dictionaries
mars_articles =[]


# Loop through the text elements
for element in text:
    # Extract the title and preview text from the elements
    title = element.find('div',class_='content_title').text
    preview = element.find('div',class_='article_teaser_body').text
                           
    # Store each title and preview pair in a dictionary
    title_preview = { 'title': title , 'preview':preview }
    
    # Add the dictionary to the list
    mars_articles.append(title_preview)



# Print the list to confirm success
mars_articles


browser.quit()


# Export data in jason
import json

# Create json from mars_articles

json_obj = json.dumps(mars_articles, indent=4)
with open("mars_articles.json", "w") as outfile:
    outfile.write(json_obj)



